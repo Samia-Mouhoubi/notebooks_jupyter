{
 "cells": [
  {
   "cell_type": "markdown",
   "id": "cebd0fec",
   "metadata": {},
   "source": [
    "# type range()"
   ]
  },
  {
   "cell_type": "code",
   "execution_count": 1,
   "id": "523a79e1",
   "metadata": {},
   "outputs": [
    {
     "data": {
      "text/plain": [
       "range(0, 10)"
      ]
     },
     "execution_count": 1,
     "metadata": {},
     "output_type": "execute_result"
    }
   ],
   "source": [
    "range(10)"
   ]
  },
  {
   "cell_type": "code",
   "execution_count": 3,
   "id": "177c5534",
   "metadata": {},
   "outputs": [
    {
     "data": {
      "text/plain": [
       "range(5, 20)"
      ]
     },
     "execution_count": 3,
     "metadata": {},
     "output_type": "execute_result"
    }
   ],
   "source": [
    "range(5,20)"
   ]
  },
  {
   "cell_type": "code",
   "execution_count": 5,
   "id": "ace81a80",
   "metadata": {},
   "outputs": [
    {
     "data": {
      "text/plain": [
       "range(1, 20, 2)"
      ]
     },
     "execution_count": 5,
     "metadata": {},
     "output_type": "execute_result"
    }
   ],
   "source": [
    "range(1,20,2)"
   ]
  },
  {
   "cell_type": "code",
   "execution_count": 9,
   "id": "57353c29",
   "metadata": {},
   "outputs": [],
   "source": [
    "maliste=list(range(10))"
   ]
  },
  {
   "cell_type": "code",
   "execution_count": 10,
   "id": "5938d40e",
   "metadata": {},
   "outputs": [
    {
     "name": "stdout",
     "output_type": "stream",
     "text": [
      "[0, 1, 2, 3, 4, 5, 6, 7, 8, 9]\n"
     ]
    }
   ],
   "source": [
    "print(maliste)"
   ]
  },
  {
   "cell_type": "markdown",
   "id": "468b8c4c",
   "metadata": {},
   "source": [
    "# Boucle for"
   ]
  },
  {
   "cell_type": "code",
   "execution_count": 7,
   "id": "337cb00d",
   "metadata": {},
   "outputs": [
    {
     "name": "stdout",
     "output_type": "stream",
     "text": [
      "1\n",
      "3\n",
      "5\n",
      "7\n",
      "9\n",
      "11\n",
      "13\n",
      "15\n",
      "17\n",
      "19\n"
     ]
    }
   ],
   "source": [
    "for i in range(1,20,2):\n",
    "    print(i)"
   ]
  },
  {
   "cell_type": "code",
   "execution_count": 11,
   "id": "88222f11",
   "metadata": {},
   "outputs": [
    {
     "data": {
      "text/plain": [
       "'A'"
      ]
     },
     "execution_count": 11,
     "metadata": {},
     "output_type": "execute_result"
    }
   ],
   "source": [
    "nom=\"Automatisation des tests\"\n",
    "nom[0]"
   ]
  },
  {
   "cell_type": "code",
   "execution_count": 12,
   "id": "e585c4a8",
   "metadata": {},
   "outputs": [
    {
     "data": {
      "text/plain": [
       "'u'"
      ]
     },
     "execution_count": 12,
     "metadata": {},
     "output_type": "execute_result"
    }
   ],
   "source": [
    "nom[1]"
   ]
  },
  {
   "cell_type": "code",
   "execution_count": 13,
   "id": "f2a41b49",
   "metadata": {},
   "outputs": [
    {
     "name": "stdout",
     "output_type": "stream",
     "text": [
      "A\n",
      "u\n",
      "t\n",
      "o\n",
      "m\n",
      "a\n",
      "t\n",
      "i\n",
      "s\n",
      "a\n",
      "t\n",
      "i\n",
      "o\n",
      "n\n",
      " \n",
      "d\n",
      "e\n",
      "s\n",
      " \n",
      "t\n",
      "e\n",
      "s\n",
      "t\n",
      "s\n"
     ]
    }
   ],
   "source": [
    "for i in nom:\n",
    "    print(i)"
   ]
  },
  {
   "cell_type": "markdown",
   "id": "bfa6634c",
   "metadata": {},
   "source": [
    "## Exo1"
   ]
  },
  {
   "cell_type": "markdown",
   "id": "ced9cace",
   "metadata": {},
   "source": [
    "### Ecrire in programme qui va afficher les caractères d'une chaine de caractères avec leurs indices respectifs"
   ]
  },
  {
   "cell_type": "code",
   "execution_count": 20,
   "id": "15ad8a0c",
   "metadata": {},
   "outputs": [
    {
     "name": "stdout",
     "output_type": "stream",
     "text": [
      "A 0\n",
      "u 1\n",
      "t 2\n",
      "o 3\n",
      "m 4\n",
      "a 5\n",
      "t 6\n",
      "i 7\n",
      "s 8\n",
      "a 9\n",
      "t 10\n",
      "i 11\n",
      "o 12\n",
      "n 13\n",
      "  14\n",
      "d 15\n",
      "e 16\n",
      "s 17\n",
      "  18\n",
      "t 19\n",
      "e 20\n",
      "s 21\n",
      "t 22\n",
      "s 23\n"
     ]
    }
   ],
   "source": [
    "j = 0\n",
    "for i in nom:\n",
    "    print(i , j)\n",
    "    j+=1"
   ]
  },
  {
   "cell_type": "code",
   "execution_count": 18,
   "id": "a7fadb7b",
   "metadata": {},
   "outputs": [
    {
     "name": "stdout",
     "output_type": "stream",
     "text": [
      "le caractère présent à la position 0  est  C\n",
      "le caractère présent à la position 1  est  o\n",
      "le caractère présent à la position 2  est  u\n",
      "le caractère présent à la position 3  est  r\n",
      "le caractère présent à la position 4  est  s\n",
      "le caractère présent à la position 5  est   \n",
      "le caractère présent à la position 6  est  d\n",
      "le caractère présent à la position 7  est  '\n",
      "le caractère présent à la position 8  est  a\n",
      "le caractère présent à la position 9  est  u\n",
      "le caractère présent à la position 10  est  t\n",
      "le caractère présent à la position 11  est  o\n",
      "le caractère présent à la position 12  est  m\n",
      "le caractère présent à la position 13  est  a\n",
      "le caractère présent à la position 14  est  t\n",
      "le caractère présent à la position 15  est  i\n",
      "le caractère présent à la position 16  est  s\n",
      "le caractère présent à la position 17  est  a\n",
      "le caractère présent à la position 18  est  t\n",
      "le caractère présent à la position 19  est  i\n",
      "le caractère présent à la position 20  est  o\n",
      "le caractère présent à la position 21  est  n\n"
     ]
    }
   ],
   "source": [
    "s1=\"Cours d'automatisation\"\n",
    "p=0\n",
    "for i in s1:\n",
    "    print(\"le caractère présent à la position\",p,\" est \", i)\n",
    "    p=p+1"
   ]
  },
  {
   "cell_type": "markdown",
   "id": "2a6c6d58",
   "metadata": {},
   "source": [
    "## Exo2"
   ]
  },
  {
   "cell_type": "markdown",
   "id": "fe9595ba",
   "metadata": {},
   "source": [
    "### Exo2: afficher les nombres impairs entre 0 et 30"
   ]
  },
  {
   "cell_type": "code",
   "execution_count": 25,
   "id": "33536877",
   "metadata": {},
   "outputs": [
    {
     "name": "stdout",
     "output_type": "stream",
     "text": [
      "1\n",
      "3\n",
      "5\n",
      "7\n",
      "9\n",
      "11\n",
      "13\n",
      "15\n",
      "17\n",
      "19\n",
      "21\n",
      "23\n",
      "25\n",
      "27\n",
      "29\n"
     ]
    }
   ],
   "source": [
    "for i in range(31):\n",
    "    if i%2==1:\n",
    "        print(i)"
   ]
  },
  {
   "cell_type": "code",
   "execution_count": 26,
   "id": "0d7fcdf9",
   "metadata": {},
   "outputs": [
    {
     "name": "stdout",
     "output_type": "stream",
     "text": [
      "1\n",
      "3\n",
      "5\n",
      "7\n",
      "9\n",
      "11\n",
      "13\n",
      "15\n",
      "17\n",
      "19\n",
      "21\n",
      "23\n",
      "25\n",
      "27\n",
      "29\n"
     ]
    }
   ],
   "source": [
    "for i in range(1,30,2):\n",
    "    print(i)"
   ]
  },
  {
   "cell_type": "markdown",
   "id": "b08baa7b",
   "metadata": {},
   "source": [
    "## Exo 3"
   ]
  },
  {
   "cell_type": "markdown",
   "id": "d2f0ac98",
   "metadata": {},
   "source": [
    "### Ecrire un programme qui va afficher les nombres de 30 jusqu'a 1 en ordre décendant"
   ]
  },
  {
   "cell_type": "code",
   "execution_count": 27,
   "id": "134d9ba0",
   "metadata": {},
   "outputs": [
    {
     "name": "stdout",
     "output_type": "stream",
     "text": [
      "30\n",
      "29\n",
      "28\n",
      "27\n",
      "26\n",
      "25\n",
      "24\n",
      "23\n",
      "22\n",
      "21\n",
      "20\n",
      "19\n",
      "18\n",
      "17\n",
      "16\n",
      "15\n",
      "14\n",
      "13\n",
      "12\n",
      "11\n",
      "10\n",
      "9\n",
      "8\n",
      "7\n",
      "6\n",
      "5\n",
      "4\n",
      "3\n",
      "2\n",
      "1\n"
     ]
    }
   ],
   "source": [
    "for i in range(30,0,-1):\n",
    "    print(i)"
   ]
  },
  {
   "cell_type": "markdown",
   "id": "46e99ecc",
   "metadata": {},
   "source": [
    "## Boucle While"
   ]
  },
  {
   "cell_type": "code",
   "execution_count": 31,
   "id": "0c03aab5",
   "metadata": {},
   "outputs": [
    {
     "name": "stdout",
     "output_type": "stream",
     "text": [
      "0\n",
      "1\n",
      "2\n",
      "3\n",
      "4\n",
      "5\n",
      "6\n"
     ]
    }
   ],
   "source": [
    "for i in range(10):\n",
    "    if (i==7):\n",
    "        break # sortir de la boucle lorsque la condition se realise\n",
    "    print(i)"
   ]
  },
  {
   "cell_type": "code",
   "execution_count": 35,
   "id": "dc7df01c",
   "metadata": {},
   "outputs": [
    {
     "name": "stdout",
     "output_type": "stream",
     "text": [
      "20\n",
      "60\n",
      "75\n",
      "le prix est exagere!!\n",
      "126\n",
      "le prix est exagere!!\n",
      "241\n"
     ]
    }
   ],
   "source": [
    "panier=[20,60,75,126,241]\n",
    "for prix in panier:\n",
    "    if(prix>100):\n",
    "        print(\"le prix est exagere!!\")\n",
    "    print(prix)"
   ]
  },
  {
   "cell_type": "code",
   "execution_count": 36,
   "id": "b2ebd872",
   "metadata": {},
   "outputs": [
    {
     "name": "stdout",
     "output_type": "stream",
     "text": [
      "20\n",
      "60\n",
      "75\n",
      "le prix est exagere!!\n",
      "le prix est exagere!!\n"
     ]
    }
   ],
   "source": [
    "panier=[20,60,75,126,241]\n",
    "for prix in panier:\n",
    "    if(prix>100):\n",
    "        print(\"le prix est exagere!!\")\n",
    "        continue\n",
    "    print(prix)"
   ]
  },
  {
   "cell_type": "markdown",
   "id": "6ccb3acf",
   "metadata": {},
   "source": [
    "## Exo 4"
   ]
  },
  {
   "cell_type": "markdown",
   "id": "b3bceaa1",
   "metadata": {},
   "source": [
    "## Afficher les nombres impairs entre 0 et 9"
   ]
  },
  {
   "cell_type": "code",
   "execution_count": 38,
   "id": "6e68427e",
   "metadata": {},
   "outputs": [
    {
     "name": "stdout",
     "output_type": "stream",
     "text": [
      "1\n",
      "3\n",
      "5\n",
      "7\n",
      "9\n"
     ]
    }
   ],
   "source": [
    "for i in range(10):\n",
    "    if(i%2==0):\n",
    "        continue\n",
    "    print(i)"
   ]
  },
  {
   "cell_type": "code",
   "execution_count": 39,
   "id": "d8ca6a5a",
   "metadata": {},
   "outputs": [
    {
     "name": "stdout",
     "output_type": "stream",
     "text": [
      "0 0\n",
      "0 1\n",
      "0 2\n",
      "0 3\n",
      "0 4\n",
      "1 0\n",
      "1 1\n",
      "1 2\n",
      "1 3\n",
      "1 4\n",
      "2 0\n",
      "2 1\n",
      "2 2\n",
      "2 3\n",
      "2 4\n",
      "3 0\n",
      "3 1\n",
      "3 2\n",
      "3 3\n",
      "3 4\n",
      "4 0\n",
      "4 1\n",
      "4 2\n",
      "4 3\n",
      "4 4\n",
      "5 0\n",
      "5 1\n",
      "5 2\n",
      "5 3\n",
      "5 4\n",
      "6 0\n",
      "6 1\n",
      "6 2\n",
      "6 3\n",
      "6 4\n",
      "7 0\n",
      "7 1\n",
      "7 2\n",
      "7 3\n",
      "7 4\n",
      "8 0\n",
      "8 1\n",
      "8 2\n",
      "8 3\n",
      "8 4\n",
      "9 0\n",
      "9 1\n",
      "9 2\n",
      "9 3\n",
      "9 4\n"
     ]
    }
   ],
   "source": [
    "for i in range (10):\n",
    "    for j in range(5):\n",
    "        print(i,j)"
   ]
  },
  {
   "cell_type": "markdown",
   "id": "17ea5c19",
   "metadata": {},
   "source": [
    "## Boucle while\n"
   ]
  },
  {
   "cell_type": "code",
   "execution_count": 40,
   "id": "544e1995",
   "metadata": {},
   "outputs": [
    {
     "name": "stdout",
     "output_type": "stream",
     "text": [
      "1\n",
      "2\n",
      "3\n",
      "4\n",
      "5\n",
      "6\n",
      "7\n",
      "8\n",
      "9\n",
      "10\n"
     ]
    }
   ],
   "source": [
    "i=1\n",
    "while (i<=10):\n",
    "    print(i)\n",
    "    i=i+1 "
   ]
  },
  {
   "cell_type": "code",
   "execution_count": null,
   "id": "3aa721ad",
   "metadata": {},
   "outputs": [],
   "source": []
  }
 ],
 "metadata": {
  "kernelspec": {
   "display_name": "Python 3 (ipykernel)",
   "language": "python",
   "name": "python3"
  },
  "language_info": {
   "codemirror_mode": {
    "name": "ipython",
    "version": 3
   },
   "file_extension": ".py",
   "mimetype": "text/x-python",
   "name": "python",
   "nbconvert_exporter": "python",
   "pygments_lexer": "ipython3",
   "version": "3.10.9"
  }
 },
 "nbformat": 4,
 "nbformat_minor": 5
}
